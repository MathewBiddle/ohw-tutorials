{
 "cells": [
  {
   "cell_type": "markdown",
   "metadata": {},
   "source": [
    "# Quick demonstration of R-notebooks using the r-oce library\n",
    "\n",
    "The IOOS notebook\n",
    "[environment](https://github.com/ioos/notebooks_demos/blob/229dabe0e7dd207814b9cfb96e024d3138f19abf/environment.yml#L73-L76)\n",
    "installs the `R` language and the `Jupyter` kernel needed to run `R` notebooks.\n",
    "Conda can also install extra `R` packages,\n",
    "and those packages that are unavailable in `conda` can be installed directly from CRAN with `install.packages(pkg_name)`.\n",
    "\n",
    "You can start `jupyter` from any other environment and change the kernel later using the drop-down menu.\n",
    "(Check the `R` logo at the top right to ensure you are in the `R` jupyter kernel.)\n",
    "\n",
    "In this simple example we will use two libraries aimed at the oceanography community written in `R`: [`r-gsw`](https://cran.r-project.org/web/packages/gsw/index.html) and [`r-oce`](http://dankelley.github.io/oce/).\n",
    "\n",
    "(The original post for the examples below can be found author's blog: [http://dankelley.github.io/blog/](http://dankelley.github.io/blog/))"
   ]
  },
  {
   "cell_type": "code",
   "execution_count": null,
   "metadata": {},
   "outputs": [],
   "source": [
    "library(gsw)\n",
    "library(oce)"
   ]
  },
  {
   "cell_type": "markdown",
   "metadata": {},
   "source": [
    "Example 1: calculating the day length."
   ]
  },
  {
   "cell_type": "code",
   "execution_count": null,
   "metadata": {},
   "outputs": [],
   "source": [
    "daylength <- function(t, lon=-38.5, lat=-13)\n",
    "{\n",
    "    t <- as.numeric(t)\n",
    "    alt <- function(t)\n",
    "        sunAngle(t, longitude=lon, latitude=lat)$altitude\n",
    "    rise <- uniroot(alt, lower=t-86400/2, upper=t)$root\n",
    "    set <- uniroot(alt, lower=t, upper=t+86400/2)$root\n",
    "    set - rise\n",
    "}\n",
    "\n",
    "t0 <- as.POSIXct(\"2017-01-01 12:00:00\", tz=\"UTC\")\n",
    "t <- seq.POSIXt(t0, by=\"1 day\", length.out=1*356)\n",
    "dayLength <- unlist(lapply(t, daylength))\n",
    "\n",
    "par(mfrow=c(2,1), mar=c(3, 3, 1, 1), mgp=c(2, 0.7, 0))\n",
    "\n",
    "plot(t, dayLength/3600, type='o', pch=20,\n",
    "     xlab=\"\", ylab=\"Day length (hours)\")\n",
    "grid()\n",
    "solstice <- as.POSIXct(\"2013-12-21\", tz=\"UTC\")\n",
    "\n",
    "plot(t[-1], diff(dayLength), type='o', pch=20,\n",
    "     xlab=\"Day in 2017\", ylab=\"Seconds gained per day\")\n",
    "grid()"
   ]
  },
  {
   "cell_type": "markdown",
   "metadata": {},
   "source": [
    "Example 2: least-square fit."
   ]
  },
  {
   "cell_type": "code",
   "execution_count": null,
   "metadata": {},
   "outputs": [],
   "source": [
    "x <- 1:100\n",
    "y <- 1 + x / 100 + sin(x / 5)\n",
    "yn <- y + rnorm(100, sd=0.1)\n",
    "L <- 4\n",
    "calc <- runlm(x, y, L=L, deriv=0)\n",
    "plot(x, y, type=\"l\", lwd=7, col=\"gray\")\n",
    "points(x, yn, pch=20, col=\"blue\")\n",
    "lines(x, calc, lwd=2, col=\"red\")"
   ]
  },
  {
   "cell_type": "code",
   "execution_count": null,
   "metadata": {},
   "outputs": [],
   "source": [
    "data(ctd)\n",
    "rho <- swRho(ctd)\n",
    "z <- swZ(ctd)\n",
    "drhodz <- runlm(z, rho, deriv=1)\n",
    "g <- 9.81\n",
    "rho0 <- mean(rho, na.rm=TRUE)\n",
    "N2 <- -g * drhodz / rho0\n",
    "plot(ctd, which=\"N2\")\n",
    "lines(N2, -z, col=\"blue\")\n",
    "legend(\n",
    "    \"bottomright\",\n",
    "    lwd=2,\n",
    "    col=c(\"brown\", \"blue\"),\n",
    "    legend=c(\"spline\", \"runlm\"),\n",
    "    bg=\"white\",\n",
    ")"
   ]
  },
  {
   "cell_type": "markdown",
   "metadata": {},
   "source": [
    "Example 3: T-S diagram."
   ]
  },
  {
   "cell_type": "code",
   "execution_count": null,
   "metadata": {},
   "outputs": [],
   "source": [
    "# Alter next three lines as desired; a and b are watermasses.\n",
    "Sa <- 30\n",
    "Ta <- 10\n",
    "Sb <- 40\n",
    "\n",
    "library(oce)\n",
    "# Should not need to edit below this line\n",
    "rho0 <- swRho(Sa, Ta, 0)\n",
    "Tb <- uniroot(function(T) rho0-swRho(Sb,T,0), lower=0, upper=100)$root\n",
    "Sc <- (Sa + Sb) /2\n",
    "Tc <- (Ta + Tb) /2\n",
    "## density change, and equiv temp change\n",
    "drho <- swRho(Sc, Tc, 0) - rho0\n",
    "dT <- drho / rho0 / swAlpha(Sc, Tc, 0)\n",
    "\n",
    "plotTS(as.ctd(c(Sa, Sb, Sc), c(Ta, Tb, Tc), 0), pch=20, cex=2)\n",
    "drawIsopycnals(levels=rho0, col=\"red\", cex=0)\n",
    "segments(Sa, Ta, Sb, Tb, col=\"blue\")\n",
    "text(Sb, Tb, \"b\", pos=4)\n",
    "text(Sa, Ta, \"a\", pos=4)\n",
    "text(Sc, Tc, \"c\", pos=4)\n",
    "legend(\"topleft\",\n",
    "       legend=sprintf(\"Sa=%.1f, Ta=%.1f, Sb=%.1f  ->  Tb=%.1f, drho=%.2f, dT=%.2f\",\n",
    "                      Sa, Ta, Sb, Tb, drho, dT),\n",
    "       bg=\"white\")"
   ]
  },
  {
   "cell_type": "markdown",
   "metadata": {},
   "source": [
    "Example 4: find the halocline depth."
   ]
  },
  {
   "cell_type": "code",
   "execution_count": null,
   "metadata": {},
   "outputs": [],
   "source": [
    "findHalocline <- function(ctd, deltap=5, plot=TRUE)\n",
    "{\n",
    "    S <- ctd[['salinity']]\n",
    "    p <- ctd[['pressure']]\n",
    "    n <- length(p)\n",
    "    ## trim df to be no larger than n/2 and no smaller than 3.\n",
    "    N <- deltap / median(diff(p))\n",
    "    df <- min(n/2, max(3, n / N))\n",
    "    spline <- smooth.spline(S~p, df=df)\n",
    "    SS <- predict(spline, p)\n",
    "    dSSdp <- predict(spline, p, deriv=1)\n",
    "    H <- p[which.max(dSSdp$y)]\n",
    "    if (plot) {\n",
    "        par(mar=c(3, 3, 1, 1), mgp=c(2, 0.7, 0))\n",
    "        plotProfile(ctd, xtype=\"salinity\")\n",
    "        lines(SS$y, SS$x, col='red')\n",
    "        abline(h=H, col='blue')\n",
    "        mtext(sprintf(\"%.2f m\", H), side=4, at=H, cex=3/4, col='blue')\n",
    "        mtext(sprintf(\" deltap: %.0f, N: %.0f, df: %.0f\", deltap, N, df),\n",
    "              side=1, line=-1, adj=0, cex=3/4)\n",
    "    }\n",
    "    return(H)\n",
    "}\n",
    "  \n",
    "# Plot two panels to see influence of deltap.\n",
    "par(mfrow=c(1, 2))\n",
    "data(ctd)\n",
    "findHalocline(ctd)\n",
    "findHalocline(ctd, 1)"
   ]
  }
 ],
 "metadata": {
  "anaconda-cloud": {},
  "kernelspec": {
   "display_name": "R",
   "language": "R",
   "name": "ir"
  },
  "language_info": {
   "codemirror_mode": "r",
   "file_extension": ".r",
   "mimetype": "text/x-r-source",
   "name": "R",
   "pygments_lexer": "r",
   "version": "4.0.5"
  }
 },
 "nbformat": 4,
 "nbformat_minor": 1
}
