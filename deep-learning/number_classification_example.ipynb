{
 "cells": [
  {
   "cell_type": "code",
   "execution_count": 1,
   "id": "6195128e-f1c2-46ff-bb91-61747025e341",
   "metadata": {},
   "outputs": [],
   "source": [
    "Sys.setenv(\"RETICULATE_PYTHON\" = \"/srv/conda/bin/python\")\n",
    "\n",
    "library(keras)\n",
    "library(tensorflow)"
   ]
  },
  {
   "cell_type": "code",
   "execution_count": 2,
   "id": "0e4128f1-0898-483a-b771-941dec3b9274",
   "metadata": {},
   "outputs": [
    {
     "data": {
      "text/plain": [
       "TensorFlow v2.4.1 (/srv/conda/lib/python3.9/site-packages/tensorflow)\n",
       "Python v3.9 (/srv/conda/bin/python)"
      ]
     },
     "metadata": {},
     "output_type": "display_data"
    }
   ],
   "source": [
    "tf_config()"
   ]
  },
  {
   "cell_type": "code",
   "execution_count": 3,
   "id": "a6380571-ca22-43cc-bef5-98b704651e11",
   "metadata": {},
   "outputs": [
    {
     "data": {
      "text/plain": [
       "[1] ‘2.4’"
      ]
     },
     "metadata": {},
     "output_type": "display_data"
    }
   ],
   "source": [
    "tf_version()"
   ]
  },
  {
   "cell_type": "code",
   "execution_count": 4,
   "id": "eb9d01b0-2f64-48ad-a38f-fde2c389ccb3",
   "metadata": {},
   "outputs": [],
   "source": [
    "mnist <- dataset_mnist()\n",
    "train_images <- mnist$train$x\n",
    "train_labels <- mnist$train$y\n",
    "test_images <- mnist$test$x\n",
    "test_labels <- mnist$test$y"
   ]
  },
  {
   "cell_type": "code",
   "execution_count": 5,
   "id": "a2ba40c8-a63f-4010-873e-8d0848dbf5ea",
   "metadata": {},
   "outputs": [
    {
     "name": "stdout",
     "output_type": "stream",
     "text": [
      " int [1:60000, 1:28, 1:28] 0 0 0 0 0 0 0 0 0 0 ...\n"
     ]
    }
   ],
   "source": [
    "str(train_images)"
   ]
  },
  {
   "cell_type": "code",
   "execution_count": 6,
   "id": "4c066d7f-9235-45cb-b841-5c2d28f55063",
   "metadata": {},
   "outputs": [
    {
     "data": {
      "text/html": [
       "<table class=\"dataframe\">\n",
       "<caption>A matrix: 28 × 28 of type int</caption>\n",
       "<tbody>\n",
       "\t<tr><td>0</td><td>0</td><td>0</td><td>0</td><td>  0</td><td>  0</td><td>  0</td><td>  0</td><td>  0</td><td>  0</td><td>⋯</td><td>  0</td><td>  0</td><td>  0</td><td>  0</td><td>  0</td><td>  0</td><td>0</td><td>0</td><td>0</td><td>0</td></tr>\n",
       "\t<tr><td>0</td><td>0</td><td>0</td><td>0</td><td>  0</td><td>  0</td><td>  0</td><td>  0</td><td>  0</td><td>  0</td><td>⋯</td><td>  0</td><td>  0</td><td>  0</td><td>  0</td><td>  0</td><td>  0</td><td>0</td><td>0</td><td>0</td><td>0</td></tr>\n",
       "\t<tr><td>0</td><td>0</td><td>0</td><td>0</td><td>  0</td><td>  0</td><td>  0</td><td>  0</td><td>  0</td><td>  0</td><td>⋯</td><td>  0</td><td>  0</td><td>  0</td><td>  0</td><td>  0</td><td>  0</td><td>0</td><td>0</td><td>0</td><td>0</td></tr>\n",
       "\t<tr><td>0</td><td>0</td><td>0</td><td>0</td><td>  0</td><td>  0</td><td>  0</td><td>  0</td><td>  0</td><td>  0</td><td>⋯</td><td>  0</td><td>  0</td><td>  0</td><td>  0</td><td>  0</td><td>  0</td><td>0</td><td>0</td><td>0</td><td>0</td></tr>\n",
       "\t<tr><td>0</td><td>0</td><td>0</td><td>0</td><td>  0</td><td>  0</td><td>  0</td><td>  0</td><td>  0</td><td>  0</td><td>⋯</td><td>  0</td><td>  0</td><td>  0</td><td>  0</td><td>  0</td><td>  0</td><td>0</td><td>0</td><td>0</td><td>0</td></tr>\n",
       "\t<tr><td>0</td><td>0</td><td>0</td><td>0</td><td>  0</td><td>  0</td><td>  0</td><td>  0</td><td>  0</td><td>  0</td><td>⋯</td><td>175</td><td> 26</td><td>166</td><td>255</td><td>247</td><td>127</td><td>0</td><td>0</td><td>0</td><td>0</td></tr>\n",
       "\t<tr><td>0</td><td>0</td><td>0</td><td>0</td><td>  0</td><td>  0</td><td>  0</td><td>  0</td><td> 30</td><td> 36</td><td>⋯</td><td>225</td><td>172</td><td>253</td><td>242</td><td>195</td><td> 64</td><td>0</td><td>0</td><td>0</td><td>0</td></tr>\n",
       "\t<tr><td>0</td><td>0</td><td>0</td><td>0</td><td>  0</td><td>  0</td><td>  0</td><td> 49</td><td>238</td><td>253</td><td>⋯</td><td> 93</td><td> 82</td><td> 82</td><td> 56</td><td> 39</td><td>  0</td><td>0</td><td>0</td><td>0</td><td>0</td></tr>\n",
       "\t<tr><td>0</td><td>0</td><td>0</td><td>0</td><td>  0</td><td>  0</td><td>  0</td><td> 18</td><td>219</td><td>253</td><td>⋯</td><td>  0</td><td>  0</td><td>  0</td><td>  0</td><td>  0</td><td>  0</td><td>0</td><td>0</td><td>0</td><td>0</td></tr>\n",
       "\t<tr><td>0</td><td>0</td><td>0</td><td>0</td><td>  0</td><td>  0</td><td>  0</td><td>  0</td><td> 80</td><td>156</td><td>⋯</td><td>  0</td><td>  0</td><td>  0</td><td>  0</td><td>  0</td><td>  0</td><td>0</td><td>0</td><td>0</td><td>0</td></tr>\n",
       "\t<tr><td>0</td><td>0</td><td>0</td><td>0</td><td>  0</td><td>  0</td><td>  0</td><td>  0</td><td>  0</td><td> 14</td><td>⋯</td><td>  0</td><td>  0</td><td>  0</td><td>  0</td><td>  0</td><td>  0</td><td>0</td><td>0</td><td>0</td><td>0</td></tr>\n",
       "\t<tr><td>0</td><td>0</td><td>0</td><td>0</td><td>  0</td><td>  0</td><td>  0</td><td>  0</td><td>  0</td><td>  0</td><td>⋯</td><td>  0</td><td>  0</td><td>  0</td><td>  0</td><td>  0</td><td>  0</td><td>0</td><td>0</td><td>0</td><td>0</td></tr>\n",
       "\t<tr><td>0</td><td>0</td><td>0</td><td>0</td><td>  0</td><td>  0</td><td>  0</td><td>  0</td><td>  0</td><td>  0</td><td>⋯</td><td>  0</td><td>  0</td><td>  0</td><td>  0</td><td>  0</td><td>  0</td><td>0</td><td>0</td><td>0</td><td>0</td></tr>\n",
       "\t<tr><td>0</td><td>0</td><td>0</td><td>0</td><td>  0</td><td>  0</td><td>  0</td><td>  0</td><td>  0</td><td>  0</td><td>⋯</td><td>  0</td><td>  0</td><td>  0</td><td>  0</td><td>  0</td><td>  0</td><td>0</td><td>0</td><td>0</td><td>0</td></tr>\n",
       "\t<tr><td>0</td><td>0</td><td>0</td><td>0</td><td>  0</td><td>  0</td><td>  0</td><td>  0</td><td>  0</td><td>  0</td><td>⋯</td><td> 25</td><td>  0</td><td>  0</td><td>  0</td><td>  0</td><td>  0</td><td>0</td><td>0</td><td>0</td><td>0</td></tr>\n",
       "\t<tr><td>0</td><td>0</td><td>0</td><td>0</td><td>  0</td><td>  0</td><td>  0</td><td>  0</td><td>  0</td><td>  0</td><td>⋯</td><td>150</td><td> 27</td><td>  0</td><td>  0</td><td>  0</td><td>  0</td><td>0</td><td>0</td><td>0</td><td>0</td></tr>\n",
       "\t<tr><td>0</td><td>0</td><td>0</td><td>0</td><td>  0</td><td>  0</td><td>  0</td><td>  0</td><td>  0</td><td>  0</td><td>⋯</td><td>253</td><td>187</td><td>  0</td><td>  0</td><td>  0</td><td>  0</td><td>0</td><td>0</td><td>0</td><td>0</td></tr>\n",
       "\t<tr><td>0</td><td>0</td><td>0</td><td>0</td><td>  0</td><td>  0</td><td>  0</td><td>  0</td><td>  0</td><td>  0</td><td>⋯</td><td>253</td><td>249</td><td> 64</td><td>  0</td><td>  0</td><td>  0</td><td>0</td><td>0</td><td>0</td><td>0</td></tr>\n",
       "\t<tr><td>0</td><td>0</td><td>0</td><td>0</td><td>  0</td><td>  0</td><td>  0</td><td>  0</td><td>  0</td><td>  0</td><td>⋯</td><td>253</td><td>207</td><td>  2</td><td>  0</td><td>  0</td><td>  0</td><td>0</td><td>0</td><td>0</td><td>0</td></tr>\n",
       "\t<tr><td>0</td><td>0</td><td>0</td><td>0</td><td>  0</td><td>  0</td><td>  0</td><td>  0</td><td>  0</td><td>  0</td><td>⋯</td><td>250</td><td>182</td><td>  0</td><td>  0</td><td>  0</td><td>  0</td><td>0</td><td>0</td><td>0</td><td>0</td></tr>\n",
       "\t<tr><td>0</td><td>0</td><td>0</td><td>0</td><td>  0</td><td>  0</td><td>  0</td><td>  0</td><td>  0</td><td>  0</td><td>⋯</td><td> 78</td><td>  0</td><td>  0</td><td>  0</td><td>  0</td><td>  0</td><td>0</td><td>0</td><td>0</td><td>0</td></tr>\n",
       "\t<tr><td>0</td><td>0</td><td>0</td><td>0</td><td>  0</td><td>  0</td><td>  0</td><td>  0</td><td> 23</td><td> 66</td><td>⋯</td><td>  0</td><td>  0</td><td>  0</td><td>  0</td><td>  0</td><td>  0</td><td>0</td><td>0</td><td>0</td><td>0</td></tr>\n",
       "\t<tr><td>0</td><td>0</td><td>0</td><td>0</td><td>  0</td><td>  0</td><td> 18</td><td>171</td><td>219</td><td>253</td><td>⋯</td><td>  0</td><td>  0</td><td>  0</td><td>  0</td><td>  0</td><td>  0</td><td>0</td><td>0</td><td>0</td><td>0</td></tr>\n",
       "\t<tr><td>0</td><td>0</td><td>0</td><td>0</td><td> 55</td><td>172</td><td>226</td><td>253</td><td>253</td><td>253</td><td>⋯</td><td>  0</td><td>  0</td><td>  0</td><td>  0</td><td>  0</td><td>  0</td><td>0</td><td>0</td><td>0</td><td>0</td></tr>\n",
       "\t<tr><td>0</td><td>0</td><td>0</td><td>0</td><td>136</td><td>253</td><td>253</td><td>253</td><td>212</td><td>135</td><td>⋯</td><td>  0</td><td>  0</td><td>  0</td><td>  0</td><td>  0</td><td>  0</td><td>0</td><td>0</td><td>0</td><td>0</td></tr>\n",
       "\t<tr><td>0</td><td>0</td><td>0</td><td>0</td><td>  0</td><td>  0</td><td>  0</td><td>  0</td><td>  0</td><td>  0</td><td>⋯</td><td>  0</td><td>  0</td><td>  0</td><td>  0</td><td>  0</td><td>  0</td><td>0</td><td>0</td><td>0</td><td>0</td></tr>\n",
       "\t<tr><td>0</td><td>0</td><td>0</td><td>0</td><td>  0</td><td>  0</td><td>  0</td><td>  0</td><td>  0</td><td>  0</td><td>⋯</td><td>  0</td><td>  0</td><td>  0</td><td>  0</td><td>  0</td><td>  0</td><td>0</td><td>0</td><td>0</td><td>0</td></tr>\n",
       "\t<tr><td>0</td><td>0</td><td>0</td><td>0</td><td>  0</td><td>  0</td><td>  0</td><td>  0</td><td>  0</td><td>  0</td><td>⋯</td><td>  0</td><td>  0</td><td>  0</td><td>  0</td><td>  0</td><td>  0</td><td>0</td><td>0</td><td>0</td><td>0</td></tr>\n",
       "</tbody>\n",
       "</table>\n"
      ],
      "text/latex": [
       "A matrix: 28 × 28 of type int\n",
       "\\begin{tabular}{lllllllllllllllllllll}\n",
       "\t 0 & 0 & 0 & 0 &   0 &   0 &   0 &   0 &   0 &   0 & ⋯ &   0 &   0 &   0 &   0 &   0 &   0 & 0 & 0 & 0 & 0\\\\\n",
       "\t 0 & 0 & 0 & 0 &   0 &   0 &   0 &   0 &   0 &   0 & ⋯ &   0 &   0 &   0 &   0 &   0 &   0 & 0 & 0 & 0 & 0\\\\\n",
       "\t 0 & 0 & 0 & 0 &   0 &   0 &   0 &   0 &   0 &   0 & ⋯ &   0 &   0 &   0 &   0 &   0 &   0 & 0 & 0 & 0 & 0\\\\\n",
       "\t 0 & 0 & 0 & 0 &   0 &   0 &   0 &   0 &   0 &   0 & ⋯ &   0 &   0 &   0 &   0 &   0 &   0 & 0 & 0 & 0 & 0\\\\\n",
       "\t 0 & 0 & 0 & 0 &   0 &   0 &   0 &   0 &   0 &   0 & ⋯ &   0 &   0 &   0 &   0 &   0 &   0 & 0 & 0 & 0 & 0\\\\\n",
       "\t 0 & 0 & 0 & 0 &   0 &   0 &   0 &   0 &   0 &   0 & ⋯ & 175 &  26 & 166 & 255 & 247 & 127 & 0 & 0 & 0 & 0\\\\\n",
       "\t 0 & 0 & 0 & 0 &   0 &   0 &   0 &   0 &  30 &  36 & ⋯ & 225 & 172 & 253 & 242 & 195 &  64 & 0 & 0 & 0 & 0\\\\\n",
       "\t 0 & 0 & 0 & 0 &   0 &   0 &   0 &  49 & 238 & 253 & ⋯ &  93 &  82 &  82 &  56 &  39 &   0 & 0 & 0 & 0 & 0\\\\\n",
       "\t 0 & 0 & 0 & 0 &   0 &   0 &   0 &  18 & 219 & 253 & ⋯ &   0 &   0 &   0 &   0 &   0 &   0 & 0 & 0 & 0 & 0\\\\\n",
       "\t 0 & 0 & 0 & 0 &   0 &   0 &   0 &   0 &  80 & 156 & ⋯ &   0 &   0 &   0 &   0 &   0 &   0 & 0 & 0 & 0 & 0\\\\\n",
       "\t 0 & 0 & 0 & 0 &   0 &   0 &   0 &   0 &   0 &  14 & ⋯ &   0 &   0 &   0 &   0 &   0 &   0 & 0 & 0 & 0 & 0\\\\\n",
       "\t 0 & 0 & 0 & 0 &   0 &   0 &   0 &   0 &   0 &   0 & ⋯ &   0 &   0 &   0 &   0 &   0 &   0 & 0 & 0 & 0 & 0\\\\\n",
       "\t 0 & 0 & 0 & 0 &   0 &   0 &   0 &   0 &   0 &   0 & ⋯ &   0 &   0 &   0 &   0 &   0 &   0 & 0 & 0 & 0 & 0\\\\\n",
       "\t 0 & 0 & 0 & 0 &   0 &   0 &   0 &   0 &   0 &   0 & ⋯ &   0 &   0 &   0 &   0 &   0 &   0 & 0 & 0 & 0 & 0\\\\\n",
       "\t 0 & 0 & 0 & 0 &   0 &   0 &   0 &   0 &   0 &   0 & ⋯ &  25 &   0 &   0 &   0 &   0 &   0 & 0 & 0 & 0 & 0\\\\\n",
       "\t 0 & 0 & 0 & 0 &   0 &   0 &   0 &   0 &   0 &   0 & ⋯ & 150 &  27 &   0 &   0 &   0 &   0 & 0 & 0 & 0 & 0\\\\\n",
       "\t 0 & 0 & 0 & 0 &   0 &   0 &   0 &   0 &   0 &   0 & ⋯ & 253 & 187 &   0 &   0 &   0 &   0 & 0 & 0 & 0 & 0\\\\\n",
       "\t 0 & 0 & 0 & 0 &   0 &   0 &   0 &   0 &   0 &   0 & ⋯ & 253 & 249 &  64 &   0 &   0 &   0 & 0 & 0 & 0 & 0\\\\\n",
       "\t 0 & 0 & 0 & 0 &   0 &   0 &   0 &   0 &   0 &   0 & ⋯ & 253 & 207 &   2 &   0 &   0 &   0 & 0 & 0 & 0 & 0\\\\\n",
       "\t 0 & 0 & 0 & 0 &   0 &   0 &   0 &   0 &   0 &   0 & ⋯ & 250 & 182 &   0 &   0 &   0 &   0 & 0 & 0 & 0 & 0\\\\\n",
       "\t 0 & 0 & 0 & 0 &   0 &   0 &   0 &   0 &   0 &   0 & ⋯ &  78 &   0 &   0 &   0 &   0 &   0 & 0 & 0 & 0 & 0\\\\\n",
       "\t 0 & 0 & 0 & 0 &   0 &   0 &   0 &   0 &  23 &  66 & ⋯ &   0 &   0 &   0 &   0 &   0 &   0 & 0 & 0 & 0 & 0\\\\\n",
       "\t 0 & 0 & 0 & 0 &   0 &   0 &  18 & 171 & 219 & 253 & ⋯ &   0 &   0 &   0 &   0 &   0 &   0 & 0 & 0 & 0 & 0\\\\\n",
       "\t 0 & 0 & 0 & 0 &  55 & 172 & 226 & 253 & 253 & 253 & ⋯ &   0 &   0 &   0 &   0 &   0 &   0 & 0 & 0 & 0 & 0\\\\\n",
       "\t 0 & 0 & 0 & 0 & 136 & 253 & 253 & 253 & 212 & 135 & ⋯ &   0 &   0 &   0 &   0 &   0 &   0 & 0 & 0 & 0 & 0\\\\\n",
       "\t 0 & 0 & 0 & 0 &   0 &   0 &   0 &   0 &   0 &   0 & ⋯ &   0 &   0 &   0 &   0 &   0 &   0 & 0 & 0 & 0 & 0\\\\\n",
       "\t 0 & 0 & 0 & 0 &   0 &   0 &   0 &   0 &   0 &   0 & ⋯ &   0 &   0 &   0 &   0 &   0 &   0 & 0 & 0 & 0 & 0\\\\\n",
       "\t 0 & 0 & 0 & 0 &   0 &   0 &   0 &   0 &   0 &   0 & ⋯ &   0 &   0 &   0 &   0 &   0 &   0 & 0 & 0 & 0 & 0\\\\\n",
       "\\end{tabular}\n"
      ],
      "text/markdown": [
       "\n",
       "A matrix: 28 × 28 of type int\n",
       "\n",
       "| 0 | 0 | 0 | 0 |   0 |   0 |   0 |   0 |   0 |   0 | ⋯ |   0 |   0 |   0 |   0 |   0 |   0 | 0 | 0 | 0 | 0 |\n",
       "| 0 | 0 | 0 | 0 |   0 |   0 |   0 |   0 |   0 |   0 | ⋯ |   0 |   0 |   0 |   0 |   0 |   0 | 0 | 0 | 0 | 0 |\n",
       "| 0 | 0 | 0 | 0 |   0 |   0 |   0 |   0 |   0 |   0 | ⋯ |   0 |   0 |   0 |   0 |   0 |   0 | 0 | 0 | 0 | 0 |\n",
       "| 0 | 0 | 0 | 0 |   0 |   0 |   0 |   0 |   0 |   0 | ⋯ |   0 |   0 |   0 |   0 |   0 |   0 | 0 | 0 | 0 | 0 |\n",
       "| 0 | 0 | 0 | 0 |   0 |   0 |   0 |   0 |   0 |   0 | ⋯ |   0 |   0 |   0 |   0 |   0 |   0 | 0 | 0 | 0 | 0 |\n",
       "| 0 | 0 | 0 | 0 |   0 |   0 |   0 |   0 |   0 |   0 | ⋯ | 175 |  26 | 166 | 255 | 247 | 127 | 0 | 0 | 0 | 0 |\n",
       "| 0 | 0 | 0 | 0 |   0 |   0 |   0 |   0 |  30 |  36 | ⋯ | 225 | 172 | 253 | 242 | 195 |  64 | 0 | 0 | 0 | 0 |\n",
       "| 0 | 0 | 0 | 0 |   0 |   0 |   0 |  49 | 238 | 253 | ⋯ |  93 |  82 |  82 |  56 |  39 |   0 | 0 | 0 | 0 | 0 |\n",
       "| 0 | 0 | 0 | 0 |   0 |   0 |   0 |  18 | 219 | 253 | ⋯ |   0 |   0 |   0 |   0 |   0 |   0 | 0 | 0 | 0 | 0 |\n",
       "| 0 | 0 | 0 | 0 |   0 |   0 |   0 |   0 |  80 | 156 | ⋯ |   0 |   0 |   0 |   0 |   0 |   0 | 0 | 0 | 0 | 0 |\n",
       "| 0 | 0 | 0 | 0 |   0 |   0 |   0 |   0 |   0 |  14 | ⋯ |   0 |   0 |   0 |   0 |   0 |   0 | 0 | 0 | 0 | 0 |\n",
       "| 0 | 0 | 0 | 0 |   0 |   0 |   0 |   0 |   0 |   0 | ⋯ |   0 |   0 |   0 |   0 |   0 |   0 | 0 | 0 | 0 | 0 |\n",
       "| 0 | 0 | 0 | 0 |   0 |   0 |   0 |   0 |   0 |   0 | ⋯ |   0 |   0 |   0 |   0 |   0 |   0 | 0 | 0 | 0 | 0 |\n",
       "| 0 | 0 | 0 | 0 |   0 |   0 |   0 |   0 |   0 |   0 | ⋯ |   0 |   0 |   0 |   0 |   0 |   0 | 0 | 0 | 0 | 0 |\n",
       "| 0 | 0 | 0 | 0 |   0 |   0 |   0 |   0 |   0 |   0 | ⋯ |  25 |   0 |   0 |   0 |   0 |   0 | 0 | 0 | 0 | 0 |\n",
       "| 0 | 0 | 0 | 0 |   0 |   0 |   0 |   0 |   0 |   0 | ⋯ | 150 |  27 |   0 |   0 |   0 |   0 | 0 | 0 | 0 | 0 |\n",
       "| 0 | 0 | 0 | 0 |   0 |   0 |   0 |   0 |   0 |   0 | ⋯ | 253 | 187 |   0 |   0 |   0 |   0 | 0 | 0 | 0 | 0 |\n",
       "| 0 | 0 | 0 | 0 |   0 |   0 |   0 |   0 |   0 |   0 | ⋯ | 253 | 249 |  64 |   0 |   0 |   0 | 0 | 0 | 0 | 0 |\n",
       "| 0 | 0 | 0 | 0 |   0 |   0 |   0 |   0 |   0 |   0 | ⋯ | 253 | 207 |   2 |   0 |   0 |   0 | 0 | 0 | 0 | 0 |\n",
       "| 0 | 0 | 0 | 0 |   0 |   0 |   0 |   0 |   0 |   0 | ⋯ | 250 | 182 |   0 |   0 |   0 |   0 | 0 | 0 | 0 | 0 |\n",
       "| 0 | 0 | 0 | 0 |   0 |   0 |   0 |   0 |   0 |   0 | ⋯ |  78 |   0 |   0 |   0 |   0 |   0 | 0 | 0 | 0 | 0 |\n",
       "| 0 | 0 | 0 | 0 |   0 |   0 |   0 |   0 |  23 |  66 | ⋯ |   0 |   0 |   0 |   0 |   0 |   0 | 0 | 0 | 0 | 0 |\n",
       "| 0 | 0 | 0 | 0 |   0 |   0 |  18 | 171 | 219 | 253 | ⋯ |   0 |   0 |   0 |   0 |   0 |   0 | 0 | 0 | 0 | 0 |\n",
       "| 0 | 0 | 0 | 0 |  55 | 172 | 226 | 253 | 253 | 253 | ⋯ |   0 |   0 |   0 |   0 |   0 |   0 | 0 | 0 | 0 | 0 |\n",
       "| 0 | 0 | 0 | 0 | 136 | 253 | 253 | 253 | 212 | 135 | ⋯ |   0 |   0 |   0 |   0 |   0 |   0 | 0 | 0 | 0 | 0 |\n",
       "| 0 | 0 | 0 | 0 |   0 |   0 |   0 |   0 |   0 |   0 | ⋯ |   0 |   0 |   0 |   0 |   0 |   0 | 0 | 0 | 0 | 0 |\n",
       "| 0 | 0 | 0 | 0 |   0 |   0 |   0 |   0 |   0 |   0 | ⋯ |   0 |   0 |   0 |   0 |   0 |   0 | 0 | 0 | 0 | 0 |\n",
       "| 0 | 0 | 0 | 0 |   0 |   0 |   0 |   0 |   0 |   0 | ⋯ |   0 |   0 |   0 |   0 |   0 |   0 | 0 | 0 | 0 | 0 |\n",
       "\n"
      ],
      "text/plain": [
       "      [,1] [,2] [,3] [,4] [,5] [,6] [,7] [,8] [,9] [,10] [,11] [,12] [,13]\n",
       " [1,] 0    0    0    0      0    0    0    0    0    0   ⋯       0     0  \n",
       " [2,] 0    0    0    0      0    0    0    0    0    0   ⋯       0     0  \n",
       " [3,] 0    0    0    0      0    0    0    0    0    0   ⋯       0     0  \n",
       " [4,] 0    0    0    0      0    0    0    0    0    0   ⋯       0     0  \n",
       " [5,] 0    0    0    0      0    0    0    0    0    0   ⋯       0     0  \n",
       " [6,] 0    0    0    0      0    0    0    0    0    0   ⋯     175    26  \n",
       " [7,] 0    0    0    0      0    0    0    0   30   36   ⋯     225   172  \n",
       " [8,] 0    0    0    0      0    0    0   49  238  253   ⋯      93    82  \n",
       " [9,] 0    0    0    0      0    0    0   18  219  253   ⋯       0     0  \n",
       "[10,] 0    0    0    0      0    0    0    0   80  156   ⋯       0     0  \n",
       "[11,] 0    0    0    0      0    0    0    0    0   14   ⋯       0     0  \n",
       "[12,] 0    0    0    0      0    0    0    0    0    0   ⋯       0     0  \n",
       "[13,] 0    0    0    0      0    0    0    0    0    0   ⋯       0     0  \n",
       "[14,] 0    0    0    0      0    0    0    0    0    0   ⋯       0     0  \n",
       "[15,] 0    0    0    0      0    0    0    0    0    0   ⋯      25     0  \n",
       "[16,] 0    0    0    0      0    0    0    0    0    0   ⋯     150    27  \n",
       "[17,] 0    0    0    0      0    0    0    0    0    0   ⋯     253   187  \n",
       "[18,] 0    0    0    0      0    0    0    0    0    0   ⋯     253   249  \n",
       "[19,] 0    0    0    0      0    0    0    0    0    0   ⋯     253   207  \n",
       "[20,] 0    0    0    0      0    0    0    0    0    0   ⋯     250   182  \n",
       "[21,] 0    0    0    0      0    0    0    0    0    0   ⋯      78     0  \n",
       "[22,] 0    0    0    0      0    0    0    0   23   66   ⋯       0     0  \n",
       "[23,] 0    0    0    0      0    0   18  171  219  253   ⋯       0     0  \n",
       "[24,] 0    0    0    0     55  172  226  253  253  253   ⋯       0     0  \n",
       "[25,] 0    0    0    0    136  253  253  253  212  135   ⋯       0     0  \n",
       "[26,] 0    0    0    0      0    0    0    0    0    0   ⋯       0     0  \n",
       "[27,] 0    0    0    0      0    0    0    0    0    0   ⋯       0     0  \n",
       "[28,] 0    0    0    0      0    0    0    0    0    0   ⋯       0     0  \n",
       "      [,14] [,15] [,16] [,17] [,18] [,19] [,20] [,21]\n",
       " [1,]   0     0     0     0   0     0     0     0    \n",
       " [2,]   0     0     0     0   0     0     0     0    \n",
       " [3,]   0     0     0     0   0     0     0     0    \n",
       " [4,]   0     0     0     0   0     0     0     0    \n",
       " [5,]   0     0     0     0   0     0     0     0    \n",
       " [6,] 166   255   247   127   0     0     0     0    \n",
       " [7,] 253   242   195    64   0     0     0     0    \n",
       " [8,]  82    56    39     0   0     0     0     0    \n",
       " [9,]   0     0     0     0   0     0     0     0    \n",
       "[10,]   0     0     0     0   0     0     0     0    \n",
       "[11,]   0     0     0     0   0     0     0     0    \n",
       "[12,]   0     0     0     0   0     0     0     0    \n",
       "[13,]   0     0     0     0   0     0     0     0    \n",
       "[14,]   0     0     0     0   0     0     0     0    \n",
       "[15,]   0     0     0     0   0     0     0     0    \n",
       "[16,]   0     0     0     0   0     0     0     0    \n",
       "[17,]   0     0     0     0   0     0     0     0    \n",
       "[18,]  64     0     0     0   0     0     0     0    \n",
       "[19,]   2     0     0     0   0     0     0     0    \n",
       "[20,]   0     0     0     0   0     0     0     0    \n",
       "[21,]   0     0     0     0   0     0     0     0    \n",
       "[22,]   0     0     0     0   0     0     0     0    \n",
       "[23,]   0     0     0     0   0     0     0     0    \n",
       "[24,]   0     0     0     0   0     0     0     0    \n",
       "[25,]   0     0     0     0   0     0     0     0    \n",
       "[26,]   0     0     0     0   0     0     0     0    \n",
       "[27,]   0     0     0     0   0     0     0     0    \n",
       "[28,]   0     0     0     0   0     0     0     0    "
      ]
     },
     "metadata": {},
     "output_type": "display_data"
    }
   ],
   "source": [
    "train_images[1,,]"
   ]
  },
  {
   "cell_type": "code",
   "execution_count": 7,
   "id": "0588dc0c-b5d7-41b1-ac9e-8da237fefac6",
   "metadata": {},
   "outputs": [
    {
     "name": "stdout",
     "output_type": "stream",
     "text": [
      " int [1:60000(1d)] 5 0 4 1 9 2 1 3 1 4 ...\n"
     ]
    }
   ],
   "source": [
    "str(train_labels)"
   ]
  },
  {
   "cell_type": "code",
   "execution_count": 8,
   "id": "fcb5607b-caec-4872-8e05-953b2d0b9167",
   "metadata": {},
   "outputs": [],
   "source": [
    "network <- keras_model_sequential() %>% \n",
    "  layer_dense(units = 512, \n",
    "              activation = \"relu\", \n",
    "              input_shape = c(28 * 28)) %>% \n",
    "  layer_dense(units = 10, \n",
    "              activation = \"softmax\")"
   ]
  },
  {
   "cell_type": "code",
   "execution_count": 9,
   "id": "273a99c1-c8bc-4255-9553-4c416402bc15",
   "metadata": {},
   "outputs": [],
   "source": [
    "network %>% compile(\n",
    "  optimizer = \"rmsprop\",\n",
    "  loss = \"categorical_crossentropy\",\n",
    "  metrics = c(\"accuracy\")\n",
    ")"
   ]
  },
  {
   "cell_type": "code",
   "execution_count": 10,
   "id": "01bea4b1-dd33-40e1-b254-393ee5ca3a6e",
   "metadata": {},
   "outputs": [],
   "source": [
    "train_images <- array_reshape(train_images, c(60000, 28 * 28))\n",
    "train_images <- train_images / 255\n",
    "\n",
    "test_images <- array_reshape(test_images, c(10000, 28 * 28))\n",
    "test_images <- test_images / 255"
   ]
  },
  {
   "cell_type": "code",
   "execution_count": 11,
   "id": "5501abf7-af46-4d80-89f7-15ab7754f4bd",
   "metadata": {},
   "outputs": [],
   "source": [
    "train_labels <- to_categorical(train_labels)\n",
    "test_labels <- to_categorical(test_labels)"
   ]
  },
  {
   "cell_type": "code",
   "execution_count": 12,
   "id": "dfe6ae7f-997f-4743-99f4-b064d3c25153",
   "metadata": {},
   "outputs": [],
   "source": [
    "network %>% fit(train_images, train_labels, epochs = 5, batch_size = 128)"
   ]
  },
  {
   "cell_type": "code",
   "execution_count": 13,
   "id": "6a4e6b1d-e17d-4821-bffb-60d17dde4507",
   "metadata": {},
   "outputs": [
    {
     "data": {
      "text/html": [
       "<style>\n",
       ".dl-inline {width: auto; margin:0; padding: 0}\n",
       ".dl-inline>dt, .dl-inline>dd {float: none; width: auto; display: inline-block}\n",
       ".dl-inline>dt::after {content: \":\\0020\"; padding-right: .5ex}\n",
       ".dl-inline>dt:not(:first-of-type) {padding-left: .5ex}\n",
       "</style><dl class=dl-inline><dt>loss</dt><dd>0.077241875231266</dd><dt>accuracy</dt><dd>0.976300001144409</dd></dl>\n"
      ],
      "text/latex": [
       "\\begin{description*}\n",
       "\\item[loss] 0.077241875231266\n",
       "\\item[accuracy] 0.976300001144409\n",
       "\\end{description*}\n"
      ],
      "text/markdown": [
       "loss\n",
       ":   0.077241875231266accuracy\n",
       ":   0.976300001144409\n",
       "\n"
      ],
      "text/plain": [
       "      loss   accuracy \n",
       "0.07724188 0.97630000 "
      ]
     },
     "metadata": {},
     "output_type": "display_data"
    }
   ],
   "source": [
    "metrics <- network %>% evaluate(test_images, test_labels, verbose = 0)\n",
    "metrics"
   ]
  },
  {
   "cell_type": "code",
   "execution_count": null,
   "id": "3bb7cfe6-6aa5-490d-aa27-117fc4d1fd1f",
   "metadata": {},
   "outputs": [],
   "source": []
  }
 ],
 "metadata": {
  "kernelspec": {
   "display_name": "R [conda env:root] *",
   "language": "R",
   "name": "conda-root-r"
  },
  "language_info": {
   "codemirror_mode": "r",
   "file_extension": ".r",
   "mimetype": "text/x-r-source",
   "name": "R",
   "pygments_lexer": "r",
   "version": "4.0.5"
  }
 },
 "nbformat": 4,
 "nbformat_minor": 5
}
