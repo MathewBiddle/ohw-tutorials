{
 "cells": [
  {
   "cell_type": "code",
   "execution_count": 1,
   "id": "6195128e-f1c2-46ff-bb91-61747025e341",
   "metadata": {},
   "outputs": [],
   "source": [
    "Sys.setenv(\"RETICULATE_PYTHON\" = \"/srv/conda/bin/python\")\n",
    "\n",
    "library(keras)\n",
    "library(tensorflow)"
   ]
  },
  {
   "cell_type": "code",
   "execution_count": 2,
   "id": "0e4128f1-0898-483a-b771-941dec3b9274",
   "metadata": {},
   "outputs": [
    {
     "data": {
      "text/plain": [
       "TensorFlow v2.4.1 (/srv/conda/lib/python3.9/site-packages/tensorflow)\n",
       "Python v3.9 (/srv/conda/bin/python)"
      ]
     },
     "metadata": {},
     "output_type": "display_data"
    }
   ],
   "source": [
    "tf_config()"
   ]
  },
  {
   "cell_type": "code",
   "execution_count": 3,
   "id": "a6380571-ca22-43cc-bef5-98b704651e11",
   "metadata": {},
   "outputs": [
    {
     "data": {
      "text/plain": [
       "[1] ‘2.4’"
      ]
     },
     "metadata": {},
     "output_type": "display_data"
    }
   ],
   "source": [
    "tf_version()"
   ]
  },
  {
   "cell_type": "code",
   "execution_count": 4,
   "id": "eb9d01b0-2f64-48ad-a38f-fde2c389ccb3",
   "metadata": {},
   "outputs": [],
   "source": [
    "mnist <- dataset_mnist()\n",
    "train_images <- mnist$train$x\n",
    "train_labels <- mnist$train$y\n",
    "test_images <- mnist$test$x\n",
    "test_labels <- mnist$test$y"
   ]
  },
  {
   "cell_type": "code",
   "execution_count": 5,
   "id": "a2ba40c8-a63f-4010-873e-8d0848dbf5ea",
   "metadata": {},
   "outputs": [
    {
     "name": "stdout",
     "output_type": "stream",
     "text": [
      " int [1:60000, 1:28, 1:28] 0 0 0 0 0 0 0 0 0 0 ...\n"
     ]
    }
   ],
   "source": [
    "str(train_images)"
   ]
  },
  {
   "cell_type": "code",
   "execution_count": 6,
   "id": "0588dc0c-b5d7-41b1-ac9e-8da237fefac6",
   "metadata": {},
   "outputs": [
    {
     "name": "stdout",
     "output_type": "stream",
     "text": [
      " int [1:60000(1d)] 5 0 4 1 9 2 1 3 1 4 ...\n"
     ]
    }
   ],
   "source": [
    "str(train_labels)"
   ]
  },
  {
   "cell_type": "code",
   "execution_count": 7,
   "id": "fcb5607b-caec-4872-8e05-953b2d0b9167",
   "metadata": {},
   "outputs": [],
   "source": [
    "network <- keras_model_sequential() %>% \n",
    "  layer_dense(units = 512, activation = \"relu\", input_shape = c(28 * 28)) %>% \n",
    "  layer_dense(units = 10, activation = \"softmax\")"
   ]
  },
  {
   "cell_type": "code",
   "execution_count": 8,
   "id": "273a99c1-c8bc-4255-9553-4c416402bc15",
   "metadata": {},
   "outputs": [],
   "source": [
    "network %>% compile(\n",
    "  optimizer = \"rmsprop\",\n",
    "  loss = \"categorical_crossentropy\",\n",
    "  metrics = c(\"accuracy\")\n",
    ")"
   ]
  },
  {
   "cell_type": "code",
   "execution_count": 9,
   "id": "01bea4b1-dd33-40e1-b254-393ee5ca3a6e",
   "metadata": {},
   "outputs": [],
   "source": [
    "train_images <- array_reshape(train_images, c(60000, 28 * 28))\n",
    "train_images <- train_images / 255\n",
    "\n",
    "test_images <- array_reshape(test_images, c(10000, 28 * 28))\n",
    "test_images <- test_images / 255"
   ]
  },
  {
   "cell_type": "code",
   "execution_count": 10,
   "id": "5501abf7-af46-4d80-89f7-15ab7754f4bd",
   "metadata": {},
   "outputs": [],
   "source": [
    "train_labels <- to_categorical(train_labels)\n",
    "test_labels <- to_categorical(test_labels)"
   ]
  },
  {
   "cell_type": "code",
   "execution_count": 11,
   "id": "dfe6ae7f-997f-4743-99f4-b064d3c25153",
   "metadata": {},
   "outputs": [],
   "source": [
    "network %>% fit(train_images, train_labels, epochs = 5, batch_size = 128)"
   ]
  },
  {
   "cell_type": "code",
   "execution_count": null,
   "id": "6a4e6b1d-e17d-4821-bffb-60d17dde4507",
   "metadata": {},
   "outputs": [],
   "source": [
    "metrics <- network %>% evaluate(test_images, test_labels, verbose = 0)\n",
    "metrics"
   ]
  }
 ],
 "metadata": {
  "kernelspec": {
   "display_name": "R [conda env:root] *",
   "language": "R",
   "name": "conda-root-r"
  },
  "language_info": {
   "codemirror_mode": "r",
   "file_extension": ".r",
   "mimetype": "text/x-r-source",
   "name": "R",
   "pygments_lexer": "r",
   "version": "4.0.5"
  }
 },
 "nbformat": 4,
 "nbformat_minor": 5
}
