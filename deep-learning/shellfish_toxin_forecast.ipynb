{
 "cells": [
  {
   "cell_type": "code",
   "execution_count": 1,
   "id": "084d0756-cbfb-481a-9e2a-1c35746ffbc0",
   "metadata": {},
   "outputs": [
    {
     "name": "stderr",
     "output_type": "stream",
     "text": [
      "\n",
      "Attaching package: ‘dplyr’\n",
      "\n",
      "\n",
      "The following objects are masked from ‘package:stats’:\n",
      "\n",
      "    filter, lag\n",
      "\n",
      "\n",
      "The following objects are masked from ‘package:base’:\n",
      "\n",
      "    intersect, setdiff, setequal, union\n",
      "\n",
      "\n"
     ]
    }
   ],
   "source": [
    "Sys.setenv(\"RETICULATE_PYTHON\" = \"/srv/conda/bin/python\")\n",
    "\n",
    "library(keras)\n",
    "library(dplyr)\n",
    "\n",
    "source(\"tutorial_functions.R\")"
   ]
  },
  {
   "cell_type": "code",
   "execution_count": 2,
   "id": "e019c4ef-fb60-42c6-b4dd-f7a000300ec5",
   "metadata": {},
   "outputs": [
    {
     "name": "stderr",
     "output_type": "stream",
     "text": [
      "\n",
      "\u001b[36m──\u001b[39m \u001b[1m\u001b[1mColumn specification\u001b[1m\u001b[22m \u001b[36m────────────────────────────────────────────────────────\u001b[39m\n",
      "cols(\n",
      "  .default = col_double(),\n",
      "  id = \u001b[31mcol_character()\u001b[39m,\n",
      "  location_id = \u001b[31mcol_character()\u001b[39m,\n",
      "  date = \u001b[34mcol_date(format = \"\")\u001b[39m\n",
      ")\n",
      "\u001b[36mℹ\u001b[39m Use \u001b[30m\u001b[47m\u001b[30m\u001b[47m`spec()`\u001b[47m\u001b[30m\u001b[49m\u001b[39m for the full column specifications.\n",
      "\n",
      "\n"
     ]
    },
    {
     "data": {
      "text/html": [
       "<table class=\"dataframe\">\n",
       "<caption>A tibble: 6 × 22</caption>\n",
       "<thead>\n",
       "\t<tr><th scope=col>id</th><th scope=col>location_id</th><th scope=col>date</th><th scope=col>gap_days</th><th scope=col>year</th><th scope=col>classification</th><th scope=col>total_toxicity</th><th scope=col>t1</th><th scope=col>t2</th><th scope=col>t3</th><th scope=col>⋯</th><th scope=col>t6</th><th scope=col>t7</th><th scope=col>t8</th><th scope=col>t9</th><th scope=col>t10</th><th scope=col>t11</th><th scope=col>t12</th><th scope=col>sst</th><th scope=col>sst_cum</th><th scope=col>par_8DR</th></tr>\n",
       "\t<tr><th scope=col>&lt;chr&gt;</th><th scope=col>&lt;chr&gt;</th><th scope=col>&lt;date&gt;</th><th scope=col>&lt;dbl&gt;</th><th scope=col>&lt;dbl&gt;</th><th scope=col>&lt;dbl&gt;</th><th scope=col>&lt;dbl&gt;</th><th scope=col>&lt;dbl&gt;</th><th scope=col>&lt;dbl&gt;</th><th scope=col>&lt;dbl&gt;</th><th scope=col>⋯</th><th scope=col>&lt;dbl&gt;</th><th scope=col>&lt;dbl&gt;</th><th scope=col>&lt;dbl&gt;</th><th scope=col>&lt;dbl&gt;</th><th scope=col>&lt;dbl&gt;</th><th scope=col>&lt;dbl&gt;</th><th scope=col>&lt;dbl&gt;</th><th scope=col>&lt;dbl&gt;</th><th scope=col>&lt;dbl&gt;</th><th scope=col>&lt;dbl&gt;</th></tr>\n",
       "</thead>\n",
       "<tbody>\n",
       "\t<tr><td>PSP10.011_2014-05-19_mytilus</td><td>PSP10.011</td><td>2014-05-19</td><td>0</td><td>2014</td><td>0</td><td> 4.1957960</td><td>0</td><td> 4.195796</td><td>0</td><td>⋯</td><td>0.0000000</td><td>0</td><td>0</td><td>0</td><td>0.000000</td><td>0</td><td>0</td><td>283.199</td><td>38557.52</td><td>45.05425</td></tr>\n",
       "\t<tr><td>PSP10.011_2014-05-26_mytilus</td><td>PSP10.011</td><td>2014-05-26</td><td>7</td><td>2014</td><td>0</td><td> 0.2631432</td><td>0</td><td> 0.000000</td><td>0</td><td>⋯</td><td>0.2631432</td><td>0</td><td>0</td><td>0</td><td>0.000000</td><td>0</td><td>0</td><td>284.331</td><td>40546.11</td><td>38.48850</td></tr>\n",
       "\t<tr><td>PSP10.011_2014-06-02_mytilus</td><td>PSP10.011</td><td>2014-06-02</td><td>7</td><td>2014</td><td>0</td><td> 7.6376640</td><td>0</td><td> 0.000000</td><td>0</td><td>⋯</td><td>3.7181819</td><td>0</td><td>0</td><td>0</td><td>3.919482</td><td>0</td><td>0</td><td>285.625</td><td>42536.20</td><td>49.99571</td></tr>\n",
       "\t<tr><td>PSP10.011_2014-06-03_mytilus</td><td>PSP10.011</td><td>2014-06-03</td><td>1</td><td>2014</td><td>0</td><td> 1.5849700</td><td>0</td><td> 0.000000</td><td>0</td><td>⋯</td><td>1.5849696</td><td>0</td><td>0</td><td>0</td><td>0.000000</td><td>0</td><td>0</td><td>285.979</td><td>42822.18</td><td>52.47667</td></tr>\n",
       "\t<tr><td>PSP10.011_2014-06-09_mytilus</td><td>PSP10.011</td><td>2014-06-09</td><td>6</td><td>2014</td><td>0</td><td> 0.4214835</td><td>0</td><td> 0.000000</td><td>0</td><td>⋯</td><td>0.4214835</td><td>0</td><td>0</td><td>0</td><td>0.000000</td><td>0</td><td>0</td><td>287.473</td><td>44542.70</td><td>49.40933</td></tr>\n",
       "\t<tr><td>PSP10.011_2014-06-16_mytilus</td><td>PSP10.011</td><td>2014-06-16</td><td>7</td><td>2014</td><td>0</td><td>15.7755300</td><td>0</td><td>15.775531</td><td>0</td><td>⋯</td><td>0.0000000</td><td>0</td><td>0</td><td>0</td><td>0.000000</td><td>0</td><td>0</td><td>287.477</td><td>46556.85</td><td>41.76971</td></tr>\n",
       "</tbody>\n",
       "</table>\n"
      ],
      "text/latex": [
       "A tibble: 6 × 22\n",
       "\\begin{tabular}{lllllllllllllllllllll}\n",
       " id & location\\_id & date & gap\\_days & year & classification & total\\_toxicity & t1 & t2 & t3 & ⋯ & t6 & t7 & t8 & t9 & t10 & t11 & t12 & sst & sst\\_cum & par\\_8DR\\\\\n",
       " <chr> & <chr> & <date> & <dbl> & <dbl> & <dbl> & <dbl> & <dbl> & <dbl> & <dbl> & ⋯ & <dbl> & <dbl> & <dbl> & <dbl> & <dbl> & <dbl> & <dbl> & <dbl> & <dbl> & <dbl>\\\\\n",
       "\\hline\n",
       "\t PSP10.011\\_2014-05-19\\_mytilus & PSP10.011 & 2014-05-19 & 0 & 2014 & 0 &  4.1957960 & 0 &  4.195796 & 0 & ⋯ & 0.0000000 & 0 & 0 & 0 & 0.000000 & 0 & 0 & 283.199 & 38557.52 & 45.05425\\\\\n",
       "\t PSP10.011\\_2014-05-26\\_mytilus & PSP10.011 & 2014-05-26 & 7 & 2014 & 0 &  0.2631432 & 0 &  0.000000 & 0 & ⋯ & 0.2631432 & 0 & 0 & 0 & 0.000000 & 0 & 0 & 284.331 & 40546.11 & 38.48850\\\\\n",
       "\t PSP10.011\\_2014-06-02\\_mytilus & PSP10.011 & 2014-06-02 & 7 & 2014 & 0 &  7.6376640 & 0 &  0.000000 & 0 & ⋯ & 3.7181819 & 0 & 0 & 0 & 3.919482 & 0 & 0 & 285.625 & 42536.20 & 49.99571\\\\\n",
       "\t PSP10.011\\_2014-06-03\\_mytilus & PSP10.011 & 2014-06-03 & 1 & 2014 & 0 &  1.5849700 & 0 &  0.000000 & 0 & ⋯ & 1.5849696 & 0 & 0 & 0 & 0.000000 & 0 & 0 & 285.979 & 42822.18 & 52.47667\\\\\n",
       "\t PSP10.011\\_2014-06-09\\_mytilus & PSP10.011 & 2014-06-09 & 6 & 2014 & 0 &  0.4214835 & 0 &  0.000000 & 0 & ⋯ & 0.4214835 & 0 & 0 & 0 & 0.000000 & 0 & 0 & 287.473 & 44542.70 & 49.40933\\\\\n",
       "\t PSP10.011\\_2014-06-16\\_mytilus & PSP10.011 & 2014-06-16 & 7 & 2014 & 0 & 15.7755300 & 0 & 15.775531 & 0 & ⋯ & 0.0000000 & 0 & 0 & 0 & 0.000000 & 0 & 0 & 287.477 & 46556.85 & 41.76971\\\\\n",
       "\\end{tabular}\n"
      ],
      "text/markdown": [
       "\n",
       "A tibble: 6 × 22\n",
       "\n",
       "| id &lt;chr&gt; | location_id &lt;chr&gt; | date &lt;date&gt; | gap_days &lt;dbl&gt; | year &lt;dbl&gt; | classification &lt;dbl&gt; | total_toxicity &lt;dbl&gt; | t1 &lt;dbl&gt; | t2 &lt;dbl&gt; | t3 &lt;dbl&gt; | ⋯ ⋯ | t6 &lt;dbl&gt; | t7 &lt;dbl&gt; | t8 &lt;dbl&gt; | t9 &lt;dbl&gt; | t10 &lt;dbl&gt; | t11 &lt;dbl&gt; | t12 &lt;dbl&gt; | sst &lt;dbl&gt; | sst_cum &lt;dbl&gt; | par_8DR &lt;dbl&gt; |\n",
       "|---|---|---|---|---|---|---|---|---|---|---|---|---|---|---|---|---|---|---|---|---|\n",
       "| PSP10.011_2014-05-19_mytilus | PSP10.011 | 2014-05-19 | 0 | 2014 | 0 |  4.1957960 | 0 |  4.195796 | 0 | ⋯ | 0.0000000 | 0 | 0 | 0 | 0.000000 | 0 | 0 | 283.199 | 38557.52 | 45.05425 |\n",
       "| PSP10.011_2014-05-26_mytilus | PSP10.011 | 2014-05-26 | 7 | 2014 | 0 |  0.2631432 | 0 |  0.000000 | 0 | ⋯ | 0.2631432 | 0 | 0 | 0 | 0.000000 | 0 | 0 | 284.331 | 40546.11 | 38.48850 |\n",
       "| PSP10.011_2014-06-02_mytilus | PSP10.011 | 2014-06-02 | 7 | 2014 | 0 |  7.6376640 | 0 |  0.000000 | 0 | ⋯ | 3.7181819 | 0 | 0 | 0 | 3.919482 | 0 | 0 | 285.625 | 42536.20 | 49.99571 |\n",
       "| PSP10.011_2014-06-03_mytilus | PSP10.011 | 2014-06-03 | 1 | 2014 | 0 |  1.5849700 | 0 |  0.000000 | 0 | ⋯ | 1.5849696 | 0 | 0 | 0 | 0.000000 | 0 | 0 | 285.979 | 42822.18 | 52.47667 |\n",
       "| PSP10.011_2014-06-09_mytilus | PSP10.011 | 2014-06-09 | 6 | 2014 | 0 |  0.4214835 | 0 |  0.000000 | 0 | ⋯ | 0.4214835 | 0 | 0 | 0 | 0.000000 | 0 | 0 | 287.473 | 44542.70 | 49.40933 |\n",
       "| PSP10.011_2014-06-16_mytilus | PSP10.011 | 2014-06-16 | 7 | 2014 | 0 | 15.7755300 | 0 | 15.775531 | 0 | ⋯ | 0.0000000 | 0 | 0 | 0 | 0.000000 | 0 | 0 | 287.477 | 46556.85 | 41.76971 |\n",
       "\n"
      ],
      "text/plain": [
       "  id                           location_id date       gap_days year\n",
       "1 PSP10.011_2014-05-19_mytilus PSP10.011   2014-05-19 0        2014\n",
       "2 PSP10.011_2014-05-26_mytilus PSP10.011   2014-05-26 7        2014\n",
       "3 PSP10.011_2014-06-02_mytilus PSP10.011   2014-06-02 7        2014\n",
       "4 PSP10.011_2014-06-03_mytilus PSP10.011   2014-06-03 1        2014\n",
       "5 PSP10.011_2014-06-09_mytilus PSP10.011   2014-06-09 6        2014\n",
       "6 PSP10.011_2014-06-16_mytilus PSP10.011   2014-06-16 7        2014\n",
       "  classification total_toxicity t1 t2        t3 ⋯ t6        t7 t8 t9 t10     \n",
       "1 0               4.1957960     0   4.195796 0  ⋯ 0.0000000 0  0  0  0.000000\n",
       "2 0               0.2631432     0   0.000000 0  ⋯ 0.2631432 0  0  0  0.000000\n",
       "3 0               7.6376640     0   0.000000 0  ⋯ 3.7181819 0  0  0  3.919482\n",
       "4 0               1.5849700     0   0.000000 0  ⋯ 1.5849696 0  0  0  0.000000\n",
       "5 0               0.4214835     0   0.000000 0  ⋯ 0.4214835 0  0  0  0.000000\n",
       "6 0              15.7755300     0  15.775531 0  ⋯ 0.0000000 0  0  0  0.000000\n",
       "  t11 t12 sst     sst_cum  par_8DR \n",
       "1 0   0   283.199 38557.52 45.05425\n",
       "2 0   0   284.331 40546.11 38.48850\n",
       "3 0   0   285.625 42536.20 49.99571\n",
       "4 0   0   285.979 42822.18 52.47667\n",
       "5 0   0   287.473 44542.70 49.40933\n",
       "6 0   0   287.477 46556.85 41.76971"
      ]
     },
     "metadata": {},
     "output_type": "display_data"
    }
   ],
   "source": [
    "raw_data <- readr::read_csv(\"tutorial_data_test.csv\") \n",
    "\n",
    "head(raw_data)"
   ]
  },
  {
   "cell_type": "code",
   "execution_count": 4,
   "id": "e3224f62-9b44-4408-9666-55159c7ee286",
   "metadata": {},
   "outputs": [
    {
     "name": "stdout",
     "output_type": "stream",
     "text": [
      "List of 7\n",
      " $ labels         : num [1:3894, 1:4] 1 1 0 0 0 1 1 1 1 0 ...\n",
      " $ image          : num [1:3894, 1:26] 0 0 0 0 0.0315 ...\n",
      " $ classifications: num [1:3894] 0 0 1 2 2 0 0 0 0 1 ...\n",
      " $ toxicity       : num [1:3894] 1.01 0 26.3 39.83 50.17 ...\n",
      " $ locations      : chr [1:3894] \"PSP21.2\" \"PSP24.13\" \"PSP12.002\" \"PSP16.25\" ...\n",
      " $ dates          : num [1:3894] 16588 16595 16581 16218 16657 ...\n",
      " $ scaling_factors: NULL\n"
     ]
    },
    {
     "data": {
      "text/html": [
       "<style>\n",
       ".list-inline {list-style: none; margin:0; padding: 0}\n",
       ".list-inline>li {display: inline-block}\n",
       ".list-inline>li:not(:last-child)::after {content: \"\\00b7\"; padding: 0 .5ex}\n",
       "</style>\n",
       "<ol class=list-inline><li>3894</li><li>26</li></ol>\n"
      ],
      "text/latex": [
       "\\begin{enumerate*}\n",
       "\\item 3894\n",
       "\\item 26\n",
       "\\end{enumerate*}\n"
      ],
      "text/markdown": [
       "1. 3894\n",
       "2. 26\n",
       "\n",
       "\n"
      ],
      "text/plain": [
       "[1] 3894   26"
      ]
     },
     "metadata": {},
     "output_type": "display_data"
    }
   ],
   "source": [
    "#Generate images from data\n",
    "image_list <- make_image_list(raw_data,\n",
    "                              tox_levels =     c(0,10,30,80),\n",
    "                              forecast_steps = 1,\n",
    "                              n_steps =        2,\n",
    "                              minimum_gap =    4,\n",
    "                              maximum_gap =    10,\n",
    "                              toxins =         c(\"t1\", \"t2\", \"t3\", \"t4\", \"t5\", \"t6\", \"t7\", \"t8\", \"t9\", \"t10\", \"t11\", \"t12\"),\n",
    "                              environmentals = c(\"sst_cum\"))\n",
    "\n",
    "#Splits image_list by year for grouping into train/test data\n",
    "years <- sapply(image_list, function(x) {return(x$year)})\n",
    "image_list <- split(image_list, years)\n",
    "\n",
    "#configuration\n",
    "YEARS_TRAINING <-   c(\"2014\", \"2015\", \"2016\")\n",
    "YEARS_TESTING <-    \"2017\"\n",
    "  \n",
    "#Make a training set\n",
    "train <- pool_images_and_labels(image_list[YEARS_TRAINING], num_classes = 4)\n",
    "\n",
    "#Make a test set\n",
    "test <- pool_images_and_labels(image_list[YEARS_TESTING], num_classes = 4)\n",
    "\n",
    "str(train)\n",
    "dim(train$image)"
   ]
  },
  {
   "cell_type": "code",
   "execution_count": 5,
   "id": "2a86e169-1111-4416-8cb3-7ace3d8acc8b",
   "metadata": {},
   "outputs": [
    {
     "name": "stdout",
     "output_type": "stream",
     "text": [
      "Model: \"sequential\"\n",
      "________________________________________________________________________________\n",
      "Layer (type)                        Output Shape                    Param #     \n",
      "================================================================================\n",
      "input_layer (Dense)                 (None, 64)                      1728        \n",
      "________________________________________________________________________________\n",
      "dropout_1 (Dropout)                 (None, 64)                      0           \n",
      "________________________________________________________________________________\n",
      "hidden_1 (Dense)                    (None, 32)                      2080        \n",
      "________________________________________________________________________________\n",
      "dropout_2 (Dropout)                 (None, 32)                      0           \n",
      "________________________________________________________________________________\n",
      "hidden_2 (Dense)                    (None, 32)                      1056        \n",
      "________________________________________________________________________________\n",
      "dropout_3 (Dropout)                 (None, 32)                      0           \n",
      "________________________________________________________________________________\n",
      "output (Dense)                      (None, 4)                       132         \n",
      "================================================================================\n",
      "Total params: 4,996\n",
      "Trainable params: 4,996\n",
      "Non-trainable params: 0\n",
      "________________________________________________________________________________\n"
     ]
    }
   ],
   "source": [
    "model <- keras::keras_model_sequential() %>% \n",
    "  keras::layer_dense(units=64, \n",
    "                     activation = \"relu\", \n",
    "                     input_shape = dim(train$image)[2],\n",
    "                     name = \"input_layer\") %>%\n",
    "  keras::layer_dropout(rate = 0.4,\n",
    "                       name = \"dropout_1\") %>% \n",
    "  keras::layer_dense(units=32, \n",
    "                     activation = \"relu\",\n",
    "                     name = \"hidden_1\") %>% \n",
    "  keras::layer_dropout(rate=0.3,\n",
    "                       name = \"dropout_2\") %>% \n",
    "  keras::layer_dense(units=32, \n",
    "                     activation = \"relu\",\n",
    "                     name = \"hidden_2\") %>% \n",
    "  keras::layer_dropout(rate=0.2,\n",
    "                       name = \"dropout_3\") %>%\n",
    "  keras::layer_dense(units = 4, \n",
    "                     activation = \"softmax\",\n",
    "                     name = \"output\")\n",
    "\n",
    "summary(model)"
   ]
  },
  {
   "cell_type": "code",
   "execution_count": 6,
   "id": "937a605d-8fd1-4b34-9a1a-ec7c57ee673d",
   "metadata": {},
   "outputs": [],
   "source": [
    "model %>% keras::compile(optimizer =  \"adam\",\n",
    "                         loss =       \"categorical_crossentropy\", \n",
    "                         metrics =    \"categorical_accuracy\")"
   ]
  },
  {
   "cell_type": "code",
   "execution_count": 7,
   "id": "acb3d317-2368-4545-8601-09ffb3c444be",
   "metadata": {},
   "outputs": [],
   "source": [
    "model %>% keras::fit(x = train$image,\n",
    "                     y = train$labels,\n",
    "                     batch_size = 128,\n",
    "                     epochs = 64,\n",
    "                     verbose=2,\n",
    "                     validation_split = 0.2,\n",
    "                     shuffle = TRUE)"
   ]
  },
  {
   "cell_type": "code",
   "execution_count": null,
   "id": "31abda2f-4946-407c-89a3-12c2eea7c2a2",
   "metadata": {},
   "outputs": [],
   "source": [
    "metrics <- model %>% \n",
    "  keras::evaluate(x = test$image,\n",
    "                  y = test$labels)\n",
    "\n",
    "predictions <- model %>% \n",
    "  keras::predict_classes(test$image)\n",
    "\n",
    "predicted_probs <- model %>% \n",
    "      keras::predict_proba(test$image)\n",
    "\n",
    "metrics"
   ]
  },
  {
   "cell_type": "code",
   "execution_count": null,
   "id": "906390c2-dd5a-42bf-b75a-09c99432afd5",
   "metadata": {},
   "outputs": [],
   "source": [
    "results <- dplyr::tibble(location = test$locations,\n",
    "                         date = as.Date(as.numeric(test$dates), origin = as.Date(\"1970-01-01\")),\n",
    "                         actual_classification = test$classifications,\n",
    "                         predicted_classification = predictions) %>% \n",
    "      dplyr::mutate(prob_0 = predicted_probs[,1]*100,\n",
    "                    prob_1 = predicted_probs[,2]*100,\n",
    "                    prob_2 = predicted_probs[,3]*100,\n",
    "                    prob_3 = predicted_probs[,4]*100)\n",
    "\n",
    "results"
   ]
  },
  {
   "cell_type": "code",
   "execution_count": null,
   "id": "f92266cd-dbc8-4f1e-b86d-814d3d7f4a9d",
   "metadata": {},
   "outputs": [],
   "source": [
    "num_levels <- 4\n",
    "levels <- seq(from=0, to=(num_levels-1))\n",
    "\n",
    "cm <- as.data.frame(table(predicted = factor(predictions, levels), actual = factor(test$classifications, levels)))\n",
    "  \n",
    "confusion_matrix <- ggplot2::ggplot(data = cm,\n",
    "                                    mapping = ggplot2::aes(x = .data$predicted, y = .data$actual)) +\n",
    "  ggplot2::geom_tile(ggplot2::aes(fill = log(.data$Freq+1))) +\n",
    "  ggplot2::geom_text(ggplot2::aes(label = sprintf(\"%1.0f\", .data$Freq)), vjust = 1, size=8) +\n",
    "  ggplot2::scale_fill_gradient(low = \"white\", \n",
    "                               high = \"blue\") +\n",
    "  ggplot2::labs(x = \"Predicted Classifications\", \n",
    "                y = \"Actual Classifications\", \n",
    "                title=paste(\"Confusion Matrix -\", YEARS_TESTING, \"Toxin Testing Season Hindcast\",sep=\" \"),\n",
    "                subtitle=paste(\"Loss:\", round(metrics[1], 3), \"Accuracy:\", round(metrics[2], 3), sep=\" \"),\n",
    "                caption=paste(Sys.Date())) +\n",
    "  ggplot2::theme_linedraw() +\n",
    "  ggplot2::theme(axis.text=  ggplot2::element_text(size=14),\n",
    "                 axis.title= ggplot2::element_text(size=14,face=\"bold\"),\n",
    "                 title =     ggplot2::element_text(size = 14, face = \"bold\"),\n",
    "                 legend.position = \"none\") \n",
    "\n",
    "confusion_matrix"
   ]
  },
  {
   "cell_type": "code",
   "execution_count": null,
   "id": "83c79103-c6cc-4fc9-ae4a-68306fccbf1f",
   "metadata": {},
   "outputs": [],
   "source": []
  }
 ],
 "metadata": {
  "kernelspec": {
   "display_name": "R [conda env:root] *",
   "language": "R",
   "name": "conda-root-r"
  },
  "language_info": {
   "codemirror_mode": "r",
   "file_extension": ".r",
   "mimetype": "text/x-r-source",
   "name": "R",
   "pygments_lexer": "r",
   "version": "4.0.5"
  }
 },
 "nbformat": 4,
 "nbformat_minor": 5
}
